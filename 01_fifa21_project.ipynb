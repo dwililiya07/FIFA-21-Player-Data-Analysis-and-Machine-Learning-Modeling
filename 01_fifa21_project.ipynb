{
 "cells": [
  {
   "cell_type": "markdown",
   "id": "2faa958e-43a0-4f69-920c-f19ed4ff9d06",
   "metadata": {},
   "source": [
    "# Project: Fifa 21 Players Data Analysis and Visualization"
   ]
  },
  {
   "cell_type": "markdown",
   "id": "2b29abd2-4458-4683-ab12-34b20d91d83f",
   "metadata": {},
   "source": [
    "## Project Description\n",
    "\n",
    "Welcome to this data analysis and visualization project! In this project, we will be exploring the 'FIFA 21 Players' dataset which comprises a rich variety of information about soccer players from around the world. The data extracted are in 'csv' file format.\n",
    "\n",
    "Your task is to clean and prepare the data for analysis, and then leverage your data visualization skills to uncovers insights about FIFA 21 players, teams, and overall value and wage dynamics.\n",
    "\n",
    "Here are your tasks outlined in detail:\n",
    "\n",
    "1. **Data Cleaning**: The initial dataset contains some unnecessary and redundant information. Your first task is to clean and prepare it for analysis. In doing so:\n",
    "\n",
    "- Remove the 'Unnamed: 0' column from the dataset.\n",
    "\n",
    "- Removing the Newline Characters.\n",
    "\n",
    "- Look for columns which contain star ('★') characters. Remove these characters from all such columns.\n",
    "\n",
    "- Fill in the missing values using an appropriate method.\n",
    "\n",
    "- In the 'Value', 'Wage', and 'Release Clause' columns, remove the '€', 'K', and 'M' characters and convert the currency value to 'int'. For eg, \"M\" in value column is Million, so multiply the row values by 1,000,000, etc.\n",
    "\n",
    "  \n",
    "2. **Data Visualization**: After the data has been cleaned and prepared, use appropriate data visualization methods to represent the data as follows:\n",
    "\n",
    "- Create a Pie Chart to display the preferred foot ('Left' or 'Right') among the FIFA 21 players.\n",
    "- Use a Bar Plot to represent the top 3 FIFA 21 players.\n",
    "- Visualize the best FIFA teams from 100 players based on the 'OVA' score using a Bar Plot.\n",
    "- Use a Bar Plot to display the top 10 most valuable FIFA teams.\n",
    "- Create a Scatter Plot to show players who are highly valuable but still underpaid.\n",
    "  \n",
    "Ensure all plots are fully labeled with titles, x and y variables, and a legend if necessary."
   ]
  },
  {
   "cell_type": "markdown",
   "id": "fc6156b6-c0fa-4b24-81b6-09f108426cb2",
   "metadata": {},
   "source": [
    "### import package"
   ]
  },
  {
   "cell_type": "code",
   "execution_count": 1,
   "id": "7bc69d76-4c76-4198-a850-6571686daebe",
   "metadata": {},
   "outputs": [],
   "source": [
    "import pandas as pd\n",
    "import numpy as np\n",
    "import matplotlib.pyplot as plt\n"
   ]
  },
  {
   "cell_type": "markdown",
   "id": "c1161b98-55e6-47b1-83a1-ff948ab13e2c",
   "metadata": {},
   "source": [
    "### Read File"
   ]
  },
  {
   "cell_type": "code",
   "execution_count": 2,
   "id": "7344c4c3-78ea-4bfb-b579-1322ed250900",
   "metadata": {},
   "outputs": [
    {
     "data": {
      "text/html": [
       "<div>\n",
       "<style scoped>\n",
       "    .dataframe tbody tr th:only-of-type {\n",
       "        vertical-align: middle;\n",
       "    }\n",
       "\n",
       "    .dataframe tbody tr th {\n",
       "        vertical-align: top;\n",
       "    }\n",
       "\n",
       "    .dataframe thead th {\n",
       "        text-align: right;\n",
       "    }\n",
       "</style>\n",
       "<table border=\"1\" class=\"dataframe\">\n",
       "  <thead>\n",
       "    <tr style=\"text-align: right;\">\n",
       "      <th></th>\n",
       "      <th>Unnamed: 0</th>\n",
       "      <th>ID</th>\n",
       "      <th>Name</th>\n",
       "      <th>LongName</th>\n",
       "      <th>Nationality</th>\n",
       "      <th>Age</th>\n",
       "      <th>↓OVA</th>\n",
       "      <th>POT</th>\n",
       "      <th>Club</th>\n",
       "      <th>Contract</th>\n",
       "      <th>...</th>\n",
       "      <th>A/W</th>\n",
       "      <th>D/W</th>\n",
       "      <th>IR</th>\n",
       "      <th>PAC</th>\n",
       "      <th>SHO</th>\n",
       "      <th>PAS</th>\n",
       "      <th>DRI</th>\n",
       "      <th>DEF</th>\n",
       "      <th>PHY</th>\n",
       "      <th>Hits</th>\n",
       "    </tr>\n",
       "  </thead>\n",
       "  <tbody>\n",
       "    <tr>\n",
       "      <th>0</th>\n",
       "      <td>0</td>\n",
       "      <td>158023</td>\n",
       "      <td>L. Messi</td>\n",
       "      <td>Lionel Messi</td>\n",
       "      <td>Argentina</td>\n",
       "      <td>33</td>\n",
       "      <td>93</td>\n",
       "      <td>93</td>\n",
       "      <td>\\n\\n\\n\\nFC Barcelona</td>\n",
       "      <td>2004 ~ 2021</td>\n",
       "      <td>...</td>\n",
       "      <td>Medium</td>\n",
       "      <td>Low</td>\n",
       "      <td>5 ★</td>\n",
       "      <td>85</td>\n",
       "      <td>92</td>\n",
       "      <td>91</td>\n",
       "      <td>95</td>\n",
       "      <td>38</td>\n",
       "      <td>65</td>\n",
       "      <td>771</td>\n",
       "    </tr>\n",
       "    <tr>\n",
       "      <th>1</th>\n",
       "      <td>1</td>\n",
       "      <td>20801</td>\n",
       "      <td>Cristiano Ronaldo</td>\n",
       "      <td>C. Ronaldo dos Santos Aveiro</td>\n",
       "      <td>Portugal</td>\n",
       "      <td>35</td>\n",
       "      <td>92</td>\n",
       "      <td>92</td>\n",
       "      <td>\\n\\n\\n\\nJuventus</td>\n",
       "      <td>2018 ~ 2022</td>\n",
       "      <td>...</td>\n",
       "      <td>High</td>\n",
       "      <td>Low</td>\n",
       "      <td>5 ★</td>\n",
       "      <td>89</td>\n",
       "      <td>93</td>\n",
       "      <td>81</td>\n",
       "      <td>89</td>\n",
       "      <td>35</td>\n",
       "      <td>77</td>\n",
       "      <td>562</td>\n",
       "    </tr>\n",
       "    <tr>\n",
       "      <th>2</th>\n",
       "      <td>2</td>\n",
       "      <td>200389</td>\n",
       "      <td>J. Oblak</td>\n",
       "      <td>Jan Oblak</td>\n",
       "      <td>Slovenia</td>\n",
       "      <td>27</td>\n",
       "      <td>91</td>\n",
       "      <td>93</td>\n",
       "      <td>\\n\\n\\n\\nAtlético Madrid</td>\n",
       "      <td>2014 ~ 2023</td>\n",
       "      <td>...</td>\n",
       "      <td>Medium</td>\n",
       "      <td>Medium</td>\n",
       "      <td>3 ★</td>\n",
       "      <td>87</td>\n",
       "      <td>92</td>\n",
       "      <td>78</td>\n",
       "      <td>90</td>\n",
       "      <td>52</td>\n",
       "      <td>90</td>\n",
       "      <td>150</td>\n",
       "    </tr>\n",
       "    <tr>\n",
       "      <th>3</th>\n",
       "      <td>3</td>\n",
       "      <td>192985</td>\n",
       "      <td>K. De Bruyne</td>\n",
       "      <td>Kevin De Bruyne</td>\n",
       "      <td>Belgium</td>\n",
       "      <td>29</td>\n",
       "      <td>91</td>\n",
       "      <td>91</td>\n",
       "      <td>\\n\\n\\n\\nManchester City</td>\n",
       "      <td>2015 ~ 2023</td>\n",
       "      <td>...</td>\n",
       "      <td>High</td>\n",
       "      <td>High</td>\n",
       "      <td>4 ★</td>\n",
       "      <td>76</td>\n",
       "      <td>86</td>\n",
       "      <td>93</td>\n",
       "      <td>88</td>\n",
       "      <td>64</td>\n",
       "      <td>78</td>\n",
       "      <td>207</td>\n",
       "    </tr>\n",
       "    <tr>\n",
       "      <th>4</th>\n",
       "      <td>4</td>\n",
       "      <td>190871</td>\n",
       "      <td>Neymar Jr</td>\n",
       "      <td>Neymar da Silva Santos Jr.</td>\n",
       "      <td>Brazil</td>\n",
       "      <td>28</td>\n",
       "      <td>91</td>\n",
       "      <td>91</td>\n",
       "      <td>\\n\\n\\n\\nParis Saint-Germain</td>\n",
       "      <td>2017 ~ 2022</td>\n",
       "      <td>...</td>\n",
       "      <td>High</td>\n",
       "      <td>Medium</td>\n",
       "      <td>5 ★</td>\n",
       "      <td>91</td>\n",
       "      <td>85</td>\n",
       "      <td>86</td>\n",
       "      <td>94</td>\n",
       "      <td>36</td>\n",
       "      <td>59</td>\n",
       "      <td>595</td>\n",
       "    </tr>\n",
       "    <tr>\n",
       "      <th>...</th>\n",
       "      <td>...</td>\n",
       "      <td>...</td>\n",
       "      <td>...</td>\n",
       "      <td>...</td>\n",
       "      <td>...</td>\n",
       "      <td>...</td>\n",
       "      <td>...</td>\n",
       "      <td>...</td>\n",
       "      <td>...</td>\n",
       "      <td>...</td>\n",
       "      <td>...</td>\n",
       "      <td>...</td>\n",
       "      <td>...</td>\n",
       "      <td>...</td>\n",
       "      <td>...</td>\n",
       "      <td>...</td>\n",
       "      <td>...</td>\n",
       "      <td>...</td>\n",
       "      <td>...</td>\n",
       "      <td>...</td>\n",
       "      <td>...</td>\n",
       "    </tr>\n",
       "    <tr>\n",
       "      <th>18974</th>\n",
       "      <td>18974</td>\n",
       "      <td>247223</td>\n",
       "      <td>Xia Ao</td>\n",
       "      <td>Ao Xia</td>\n",
       "      <td>China PR</td>\n",
       "      <td>21</td>\n",
       "      <td>47</td>\n",
       "      <td>55</td>\n",
       "      <td>\\n\\n\\n\\nWuhan Zall</td>\n",
       "      <td>2018 ~ 2022</td>\n",
       "      <td>...</td>\n",
       "      <td>Medium</td>\n",
       "      <td>Medium</td>\n",
       "      <td>1 ★</td>\n",
       "      <td>64</td>\n",
       "      <td>28</td>\n",
       "      <td>26</td>\n",
       "      <td>38</td>\n",
       "      <td>48</td>\n",
       "      <td>51</td>\n",
       "      <td>NaN</td>\n",
       "    </tr>\n",
       "    <tr>\n",
       "      <th>18975</th>\n",
       "      <td>18975</td>\n",
       "      <td>258760</td>\n",
       "      <td>B. Hough</td>\n",
       "      <td>Ben Hough</td>\n",
       "      <td>England</td>\n",
       "      <td>17</td>\n",
       "      <td>47</td>\n",
       "      <td>67</td>\n",
       "      <td>\\n\\n\\n\\nOldham Athletic</td>\n",
       "      <td>2020 ~ 2021</td>\n",
       "      <td>...</td>\n",
       "      <td>Medium</td>\n",
       "      <td>Medium</td>\n",
       "      <td>1 ★</td>\n",
       "      <td>64</td>\n",
       "      <td>40</td>\n",
       "      <td>48</td>\n",
       "      <td>49</td>\n",
       "      <td>35</td>\n",
       "      <td>45</td>\n",
       "      <td>NaN</td>\n",
       "    </tr>\n",
       "    <tr>\n",
       "      <th>18976</th>\n",
       "      <td>18976</td>\n",
       "      <td>252757</td>\n",
       "      <td>R. McKinley</td>\n",
       "      <td>Ronan McKinley</td>\n",
       "      <td>England</td>\n",
       "      <td>18</td>\n",
       "      <td>47</td>\n",
       "      <td>65</td>\n",
       "      <td>\\n\\n\\n\\nDerry City</td>\n",
       "      <td>2019 ~ 2020</td>\n",
       "      <td>...</td>\n",
       "      <td>Medium</td>\n",
       "      <td>Medium</td>\n",
       "      <td>1 ★</td>\n",
       "      <td>63</td>\n",
       "      <td>39</td>\n",
       "      <td>44</td>\n",
       "      <td>46</td>\n",
       "      <td>40</td>\n",
       "      <td>53</td>\n",
       "      <td>NaN</td>\n",
       "    </tr>\n",
       "    <tr>\n",
       "      <th>18977</th>\n",
       "      <td>18977</td>\n",
       "      <td>243790</td>\n",
       "      <td>Wang Zhen'ao</td>\n",
       "      <td>Zhen'ao Wang</td>\n",
       "      <td>China PR</td>\n",
       "      <td>20</td>\n",
       "      <td>47</td>\n",
       "      <td>57</td>\n",
       "      <td>\\n\\n\\n\\nDalian YiFang FC</td>\n",
       "      <td>2020 ~ 2022</td>\n",
       "      <td>...</td>\n",
       "      <td>Medium</td>\n",
       "      <td>Medium</td>\n",
       "      <td>1 ★</td>\n",
       "      <td>58</td>\n",
       "      <td>49</td>\n",
       "      <td>41</td>\n",
       "      <td>49</td>\n",
       "      <td>30</td>\n",
       "      <td>44</td>\n",
       "      <td>NaN</td>\n",
       "    </tr>\n",
       "    <tr>\n",
       "      <th>18978</th>\n",
       "      <td>18978</td>\n",
       "      <td>252520</td>\n",
       "      <td>Zhou Xiao</td>\n",
       "      <td>Xiao Zhou</td>\n",
       "      <td>China PR</td>\n",
       "      <td>21</td>\n",
       "      <td>47</td>\n",
       "      <td>57</td>\n",
       "      <td>\\n\\n\\n\\nDalian YiFang FC</td>\n",
       "      <td>2019 ~ 2023</td>\n",
       "      <td>...</td>\n",
       "      <td>Medium</td>\n",
       "      <td>Medium</td>\n",
       "      <td>1 ★</td>\n",
       "      <td>62</td>\n",
       "      <td>22</td>\n",
       "      <td>39</td>\n",
       "      <td>42</td>\n",
       "      <td>45</td>\n",
       "      <td>55</td>\n",
       "      <td>NaN</td>\n",
       "    </tr>\n",
       "  </tbody>\n",
       "</table>\n",
       "<p>18979 rows × 35 columns</p>\n",
       "</div>"
      ],
      "text/plain": [
       "       Unnamed: 0      ID               Name                      LongName  \\\n",
       "0               0  158023           L. Messi                  Lionel Messi   \n",
       "1               1   20801  Cristiano Ronaldo  C. Ronaldo dos Santos Aveiro   \n",
       "2               2  200389           J. Oblak                     Jan Oblak   \n",
       "3               3  192985       K. De Bruyne               Kevin De Bruyne   \n",
       "4               4  190871          Neymar Jr    Neymar da Silva Santos Jr.   \n",
       "...           ...     ...                ...                           ...   \n",
       "18974       18974  247223             Xia Ao                        Ao Xia   \n",
       "18975       18975  258760           B. Hough                     Ben Hough   \n",
       "18976       18976  252757        R. McKinley                Ronan McKinley   \n",
       "18977       18977  243790       Wang Zhen'ao                  Zhen'ao Wang   \n",
       "18978       18978  252520          Zhou Xiao                     Xiao Zhou   \n",
       "\n",
       "      Nationality  Age  ↓OVA  POT                         Club     Contract  \\\n",
       "0       Argentina   33    93   93         \\n\\n\\n\\nFC Barcelona  2004 ~ 2021   \n",
       "1        Portugal   35    92   92             \\n\\n\\n\\nJuventus  2018 ~ 2022   \n",
       "2        Slovenia   27    91   93      \\n\\n\\n\\nAtlético Madrid  2014 ~ 2023   \n",
       "3         Belgium   29    91   91      \\n\\n\\n\\nManchester City  2015 ~ 2023   \n",
       "4          Brazil   28    91   91  \\n\\n\\n\\nParis Saint-Germain  2017 ~ 2022   \n",
       "...           ...  ...   ...  ...                          ...          ...   \n",
       "18974    China PR   21    47   55           \\n\\n\\n\\nWuhan Zall  2018 ~ 2022   \n",
       "18975     England   17    47   67      \\n\\n\\n\\nOldham Athletic  2020 ~ 2021   \n",
       "18976     England   18    47   65           \\n\\n\\n\\nDerry City  2019 ~ 2020   \n",
       "18977    China PR   20    47   57     \\n\\n\\n\\nDalian YiFang FC  2020 ~ 2022   \n",
       "18978    China PR   21    47   57     \\n\\n\\n\\nDalian YiFang FC  2019 ~ 2023   \n",
       "\n",
       "       ...     A/W     D/W   IR PAC  SHO PAS DRI DEF PHY Hits  \n",
       "0      ...  Medium     Low  5 ★  85   92  91  95  38  65  771  \n",
       "1      ...    High     Low  5 ★  89   93  81  89  35  77  562  \n",
       "2      ...  Medium  Medium  3 ★  87   92  78  90  52  90  150  \n",
       "3      ...    High    High  4 ★  76   86  93  88  64  78  207  \n",
       "4      ...    High  Medium  5 ★  91   85  86  94  36  59  595  \n",
       "...    ...     ...     ...  ...  ..  ...  ..  ..  ..  ..  ...  \n",
       "18974  ...  Medium  Medium  1 ★  64   28  26  38  48  51  NaN  \n",
       "18975  ...  Medium  Medium  1 ★  64   40  48  49  35  45  NaN  \n",
       "18976  ...  Medium  Medium  1 ★  63   39  44  46  40  53  NaN  \n",
       "18977  ...  Medium  Medium  1 ★  58   49  41  49  30  44  NaN  \n",
       "18978  ...  Medium  Medium  1 ★  62   22  39  42  45  55  NaN  \n",
       "\n",
       "[18979 rows x 35 columns]"
      ]
     },
     "execution_count": 2,
     "metadata": {},
     "output_type": "execute_result"
    }
   ],
   "source": [
    "url = 'https://storage.googleapis.com/rg-ai-bootcamp/assignment-1/fifa21_raw_data.csv'\n",
    "fifa_df = pd.read_csv(url, low_memory=False)\n",
    "fifa_df"
   ]
  },
  {
   "cell_type": "markdown",
   "id": "66038bd3-7cc9-47cd-ad70-8e5c5d38ac10",
   "metadata": {},
   "source": [
    "### Data Cleaning"
   ]
  },
  {
   "cell_type": "code",
   "execution_count": 3,
   "id": "2cd9e860-3176-480f-b56a-780331377fde",
   "metadata": {},
   "outputs": [
    {
     "name": "stdout",
     "output_type": "stream",
     "text": [
      "<class 'pandas.core.frame.DataFrame'>\n",
      "RangeIndex: 18979 entries, 0 to 18978\n",
      "Data columns (total 35 columns):\n",
      " #   Column          Non-Null Count  Dtype \n",
      "---  ------          --------------  ----- \n",
      " 0   Unnamed: 0      18979 non-null  int64 \n",
      " 1   ID              18979 non-null  int64 \n",
      " 2   Name            18979 non-null  object\n",
      " 3   LongName        18979 non-null  object\n",
      " 4   Nationality     18979 non-null  object\n",
      " 5   Age             18979 non-null  int64 \n",
      " 6   ↓OVA            18979 non-null  int64 \n",
      " 7   POT             18979 non-null  int64 \n",
      " 8   Club            18979 non-null  object\n",
      " 9   Contract        18979 non-null  object\n",
      " 10  Positions       18979 non-null  object\n",
      " 11  Height          18979 non-null  object\n",
      " 12  Weight          18979 non-null  object\n",
      " 13  Preferred Foot  18979 non-null  object\n",
      " 14  BOV             18979 non-null  int64 \n",
      " 15  Best Position   18979 non-null  object\n",
      " 16  Joined          18979 non-null  object\n",
      " 17  Loan Date End   1013 non-null   object\n",
      " 18  Value           18979 non-null  object\n",
      " 19  Wage            18979 non-null  object\n",
      " 20  Release Clause  18979 non-null  object\n",
      " 21  Total Stats     18979 non-null  int64 \n",
      " 22  Base Stats      18979 non-null  int64 \n",
      " 23  W/F             18979 non-null  object\n",
      " 24  SM              18979 non-null  object\n",
      " 25  A/W             18979 non-null  object\n",
      " 26  D/W             18979 non-null  object\n",
      " 27  IR              18979 non-null  object\n",
      " 28  PAC             18979 non-null  int64 \n",
      " 29  SHO             18979 non-null  int64 \n",
      " 30  PAS             18979 non-null  int64 \n",
      " 31  DRI             18979 non-null  int64 \n",
      " 32  DEF             18979 non-null  int64 \n",
      " 33  PHY             18979 non-null  int64 \n",
      " 34  Hits            16384 non-null  object\n",
      "dtypes: int64(14), object(21)\n",
      "memory usage: 5.1+ MB\n"
     ]
    }
   ],
   "source": [
    "# understanding structure of fifa_df dataset\n",
    "fifa_df.info()"
   ]
  },
  {
   "cell_type": "markdown",
   "id": "9385decb-182d-4070-a4f9-cb8c1132f3ad",
   "metadata": {},
   "source": [
    "**Removing the Unnamed: 0 Column**"
   ]
  },
  {
   "cell_type": "raw",
   "id": "ac6ee346-7bae-457f-9854-3ef55956f8e0",
   "metadata": {},
   "source": [
    "First, we gonna delete Unnamed: 0 column, which does not make a significant contribution to our data analysis needs"
   ]
  },
  {
   "cell_type": "code",
   "execution_count": 4,
   "id": "e2c622a7-8ddb-46a3-ae95-6a96b81ec339",
   "metadata": {},
   "outputs": [],
   "source": [
    "# removing the 'Unnamed: 0' Column\n",
    "fifa_df = fifa_df.drop(columns=['Unnamed: 0'])"
   ]
  },
  {
   "cell_type": "code",
   "execution_count": 5,
   "id": "ed27e90c-9bdf-425a-a6a1-f7cfe5b18e94",
   "metadata": {},
   "outputs": [
    {
     "name": "stdout",
     "output_type": "stream",
     "text": [
      "       ID               Name                      LongName Nationality  Age  \\\n",
      "0  158023           L. Messi                  Lionel Messi   Argentina   33   \n",
      "1   20801  Cristiano Ronaldo  C. Ronaldo dos Santos Aveiro    Portugal   35   \n",
      "2  200389           J. Oblak                     Jan Oblak    Slovenia   27   \n",
      "3  192985       K. De Bruyne               Kevin De Bruyne     Belgium   29   \n",
      "4  190871          Neymar Jr    Neymar da Silva Santos Jr.      Brazil   28   \n",
      "\n",
      "   ↓OVA  POT                         Club     Contract   Positions  ...  \\\n",
      "0    93   93         \\n\\n\\n\\nFC Barcelona  2004 ~ 2021  RW, ST, CF  ...   \n",
      "1    92   92             \\n\\n\\n\\nJuventus  2018 ~ 2022      ST, LW  ...   \n",
      "2    91   93      \\n\\n\\n\\nAtlético Madrid  2014 ~ 2023          GK  ...   \n",
      "3    91   91      \\n\\n\\n\\nManchester City  2015 ~ 2023     CAM, CM  ...   \n",
      "4    91   91  \\n\\n\\n\\nParis Saint-Germain  2017 ~ 2022     LW, CAM  ...   \n",
      "\n",
      "      A/W     D/W   IR  PAC SHO PAS DRI DEF PHY Hits  \n",
      "0  Medium     Low  5 ★   85  92  91  95  38  65  771  \n",
      "1    High     Low  5 ★   89  93  81  89  35  77  562  \n",
      "2  Medium  Medium  3 ★   87  92  78  90  52  90  150  \n",
      "3    High    High  4 ★   76  86  93  88  64  78  207  \n",
      "4    High  Medium  5 ★   91  85  86  94  36  59  595  \n",
      "\n",
      "[5 rows x 34 columns]\n"
     ]
    }
   ],
   "source": [
    "print(fifa_df.head())"
   ]
  },
  {
   "cell_type": "markdown",
   "id": "9c8344b8-e69b-4cdf-8201-cbed02a6e58a",
   "metadata": {},
   "source": [
    "**Removing the newline characters**"
   ]
  },
  {
   "cell_type": "raw",
   "id": "018b4018-d8d9-4061-b970-8be27cf7c214",
   "metadata": {},
   "source": [
    "Next step, we'll removing the newline character(\\n) from dataset. This nuisance feature could occur in various columns and can distrup accurate data parsing. So it's important step to assure the integrity and consistency of our data."
   ]
  },
  {
   "cell_type": "code",
   "execution_count": 6,
   "id": "1154486b-e86d-4fa1-93e8-682a23ee7c06",
   "metadata": {},
   "outputs": [
    {
     "name": "stdout",
     "output_type": "stream",
     "text": [
      "Kolom \"Club\" mengandung character newline\n"
     ]
    }
   ],
   "source": [
    "# detect which columns in the fifa_df dataset that contains newline characters\n",
    "for column in fifa_df.columns:\n",
    "    if fifa_df[column].astype(str).str.contains('\\n').any():\n",
    "        print(f'Kolom \"{column}\" mengandung character newline')"
   ]
  },
  {
   "cell_type": "code",
   "execution_count": 7,
   "id": "baf1dbfc-c794-470d-9513-42057969743e",
   "metadata": {},
   "outputs": [
    {
     "name": "stdout",
     "output_type": "stream",
     "text": [
      "0               \\n\\n\\n\\nFC Barcelona\n",
      "1                   \\n\\n\\n\\nJuventus\n",
      "2            \\n\\n\\n\\nAtlético Madrid\n",
      "3            \\n\\n\\n\\nManchester City\n",
      "4        \\n\\n\\n\\nParis Saint-Germain\n",
      "                    ...             \n",
      "18974             \\n\\n\\n\\nWuhan Zall\n",
      "18975        \\n\\n\\n\\nOldham Athletic\n",
      "18976             \\n\\n\\n\\nDerry City\n",
      "18977       \\n\\n\\n\\nDalian YiFang FC\n",
      "18978       \\n\\n\\n\\nDalian YiFang FC\n",
      "Name: Club, Length: 18979, dtype: object\n"
     ]
    }
   ],
   "source": [
    "print(fifa_df['Club'])"
   ]
  },
  {
   "cell_type": "code",
   "execution_count": 8,
   "id": "a3c61237-3a5d-4e92-a970-b9ff5561d852",
   "metadata": {},
   "outputs": [
    {
     "name": "stdout",
     "output_type": "stream",
     "text": [
      "0               FC Barcelona\n",
      "1                   Juventus\n",
      "2            Atlético Madrid\n",
      "3            Manchester City\n",
      "4        Paris Saint-Germain\n",
      "                ...         \n",
      "18974             Wuhan Zall\n",
      "18975        Oldham Athletic\n",
      "18976             Derry City\n",
      "18977       Dalian YiFang FC\n",
      "18978       Dalian YiFang FC\n",
      "Name: Club, Length: 18979, dtype: object\n"
     ]
    }
   ],
   "source": [
    "# remove newline characters\n",
    "fifa_df['Club'] = fifa_df['Club'].str.replace('\\n','',regex=False)\n",
    "print(fifa_df['Club'])"
   ]
  },
  {
   "cell_type": "markdown",
   "id": "bf7c87e5-a233-48ed-8349-de2612ba4d04",
   "metadata": {},
   "source": [
    "**Removing 'Star' Characters**"
   ]
  },
  {
   "cell_type": "raw",
   "id": "eedf511d-1d9e-4d48-b29c-5ed1ef7b4801",
   "metadata": {},
   "source": [
    "we'll identify and eliminate the star (★) characters from all the columns in the FIFA 21 Players dataset"
   ]
  },
  {
   "cell_type": "code",
   "execution_count": 9,
   "id": "b46f79b3-7af8-43cb-b47e-c0748a945dba",
   "metadata": {},
   "outputs": [
    {
     "name": "stdout",
     "output_type": "stream",
     "text": [
      "Columns with star characters:  ['W/F', 'SM', 'IR']\n"
     ]
    }
   ],
   "source": [
    "# identify the columns that contain the star\n",
    "star_columns = [col for col in fifa_df.columns if fifa_df[col].astype(str).str.contains('★').any()]\n",
    "print('Columns with star characters: ', star_columns)"
   ]
  },
  {
   "cell_type": "code",
   "execution_count": 10,
   "id": "93b226c6-77a4-49bf-9b0e-404525718bad",
   "metadata": {},
   "outputs": [
    {
     "data": {
      "text/html": [
       "<div>\n",
       "<style scoped>\n",
       "    .dataframe tbody tr th:only-of-type {\n",
       "        vertical-align: middle;\n",
       "    }\n",
       "\n",
       "    .dataframe tbody tr th {\n",
       "        vertical-align: top;\n",
       "    }\n",
       "\n",
       "    .dataframe thead th {\n",
       "        text-align: right;\n",
       "    }\n",
       "</style>\n",
       "<table border=\"1\" class=\"dataframe\">\n",
       "  <thead>\n",
       "    <tr style=\"text-align: right;\">\n",
       "      <th></th>\n",
       "      <th>W/F</th>\n",
       "      <th>SM</th>\n",
       "      <th>IR</th>\n",
       "    </tr>\n",
       "  </thead>\n",
       "  <tbody>\n",
       "    <tr>\n",
       "      <th>0</th>\n",
       "      <td>4 ★</td>\n",
       "      <td>4★</td>\n",
       "      <td>5 ★</td>\n",
       "    </tr>\n",
       "    <tr>\n",
       "      <th>1</th>\n",
       "      <td>4 ★</td>\n",
       "      <td>5★</td>\n",
       "      <td>5 ★</td>\n",
       "    </tr>\n",
       "    <tr>\n",
       "      <th>2</th>\n",
       "      <td>3 ★</td>\n",
       "      <td>1★</td>\n",
       "      <td>3 ★</td>\n",
       "    </tr>\n",
       "    <tr>\n",
       "      <th>3</th>\n",
       "      <td>5 ★</td>\n",
       "      <td>4★</td>\n",
       "      <td>4 ★</td>\n",
       "    </tr>\n",
       "    <tr>\n",
       "      <th>4</th>\n",
       "      <td>5 ★</td>\n",
       "      <td>5★</td>\n",
       "      <td>5 ★</td>\n",
       "    </tr>\n",
       "  </tbody>\n",
       "</table>\n",
       "</div>"
      ],
      "text/plain": [
       "   W/F  SM   IR\n",
       "0  4 ★  4★  5 ★\n",
       "1  4 ★  5★  5 ★\n",
       "2  3 ★  1★  3 ★\n",
       "3  5 ★  4★  4 ★\n",
       "4  5 ★  5★  5 ★"
      ]
     },
     "execution_count": 10,
     "metadata": {},
     "output_type": "execute_result"
    }
   ],
   "source": [
    "# so there are 3 columns that contains star characters\n",
    "fifa_df[['W/F', 'SM', 'IR']].head()"
   ]
  },
  {
   "cell_type": "code",
   "execution_count": 11,
   "id": "68cd253d-497a-4173-9970-08ee3e52969d",
   "metadata": {},
   "outputs": [
    {
     "data": {
      "text/html": [
       "<div>\n",
       "<style scoped>\n",
       "    .dataframe tbody tr th:only-of-type {\n",
       "        vertical-align: middle;\n",
       "    }\n",
       "\n",
       "    .dataframe tbody tr th {\n",
       "        vertical-align: top;\n",
       "    }\n",
       "\n",
       "    .dataframe thead th {\n",
       "        text-align: right;\n",
       "    }\n",
       "</style>\n",
       "<table border=\"1\" class=\"dataframe\">\n",
       "  <thead>\n",
       "    <tr style=\"text-align: right;\">\n",
       "      <th></th>\n",
       "      <th>W/F</th>\n",
       "      <th>SM</th>\n",
       "      <th>IR</th>\n",
       "    </tr>\n",
       "  </thead>\n",
       "  <tbody>\n",
       "    <tr>\n",
       "      <th>0</th>\n",
       "      <td>4</td>\n",
       "      <td>4</td>\n",
       "      <td>5</td>\n",
       "    </tr>\n",
       "    <tr>\n",
       "      <th>1</th>\n",
       "      <td>4</td>\n",
       "      <td>5</td>\n",
       "      <td>5</td>\n",
       "    </tr>\n",
       "    <tr>\n",
       "      <th>2</th>\n",
       "      <td>3</td>\n",
       "      <td>1</td>\n",
       "      <td>3</td>\n",
       "    </tr>\n",
       "    <tr>\n",
       "      <th>3</th>\n",
       "      <td>5</td>\n",
       "      <td>4</td>\n",
       "      <td>4</td>\n",
       "    </tr>\n",
       "    <tr>\n",
       "      <th>4</th>\n",
       "      <td>5</td>\n",
       "      <td>5</td>\n",
       "      <td>5</td>\n",
       "    </tr>\n",
       "  </tbody>\n",
       "</table>\n",
       "</div>"
      ],
      "text/plain": [
       "  W/F SM  IR\n",
       "0  4   4  5 \n",
       "1  4   5  5 \n",
       "2  3   1  3 \n",
       "3  5   4  4 \n",
       "4  5   5  5 "
      ]
     },
     "execution_count": 11,
     "metadata": {},
     "output_type": "execute_result"
    }
   ],
   "source": [
    "# make a function to remove star characters\n",
    "def remove_star(column):\n",
    "    return column.str.replace('★','', regex=False)\n",
    "\n",
    "# implementin the function to the dataset\n",
    "for col in star_columns:\n",
    "    fifa_df[col] = remove_star(fifa_df[col])\n",
    "\n",
    "# checking the data\n",
    "fifa_df[['W/F', 'SM', 'IR']].head()"
   ]
  },
  {
   "cell_type": "markdown",
   "id": "79e36763-5068-4979-ae05-37b85c2dd159",
   "metadata": {},
   "source": [
    "**Filling Missing Values**"
   ]
  },
  {
   "cell_type": "raw",
   "id": "b741d58e-22f5-47f1-a4be-63a8c51f1f0f",
   "metadata": {},
   "source": [
    "'Loan End Date' and 'Hits' columns in FIFA 21 Players dataset contains some missing entries, so we have to handle this missing value. We'll fill the missing values in the 'Loan End Date' column with 'Not on Loan' and for the 'Hits' columns with 'Unknown'."
   ]
  },
  {
   "cell_type": "code",
   "execution_count": 12,
   "id": "3fbdd218-f937-4046-a652-115a60d6b67e",
   "metadata": {},
   "outputs": [
    {
     "data": {
      "text/plain": [
       "ID                    0\n",
       "Name                  0\n",
       "LongName              0\n",
       "Nationality           0\n",
       "Age                   0\n",
       "↓OVA                  0\n",
       "POT                   0\n",
       "Club                  0\n",
       "Contract              0\n",
       "Positions             0\n",
       "Height                0\n",
       "Weight                0\n",
       "Preferred Foot        0\n",
       "BOV                   0\n",
       "Best Position         0\n",
       "Joined                0\n",
       "Loan Date End     17966\n",
       "Value                 0\n",
       "Wage                  0\n",
       "Release Clause        0\n",
       "Total Stats           0\n",
       "Base Stats            0\n",
       "W/F                   0\n",
       "SM                    0\n",
       "A/W                   0\n",
       "D/W                   0\n",
       "IR                    0\n",
       "PAC                   0\n",
       "SHO                   0\n",
       "PAS                   0\n",
       "DRI                   0\n",
       "DEF                   0\n",
       "PHY                   0\n",
       "Hits               2595\n",
       "dtype: int64"
      ]
     },
     "execution_count": 12,
     "metadata": {},
     "output_type": "execute_result"
    }
   ],
   "source": [
    "# identify the missing value in the mentioned columns of fifa dataset\n",
    "fifa_df.isnull().sum()"
   ]
  },
  {
   "cell_type": "code",
   "execution_count": 13,
   "id": "5700aa22-a730-45ec-a9b2-f9fdaef54d7e",
   "metadata": {},
   "outputs": [],
   "source": [
    "# filling missing value with string\n",
    "fifa_df = fifa_df.fillna({\n",
    "    'Loan Date End' : 'Not on Loan',\n",
    "    'Hits' : 'Unknown'\n",
    "})"
   ]
  },
  {
   "cell_type": "code",
   "execution_count": 14,
   "id": "88009e79-3083-4d9f-9419-e565d62ac5d1",
   "metadata": {},
   "outputs": [
    {
     "data": {
      "text/html": [
       "<div>\n",
       "<style scoped>\n",
       "    .dataframe tbody tr th:only-of-type {\n",
       "        vertical-align: middle;\n",
       "    }\n",
       "\n",
       "    .dataframe tbody tr th {\n",
       "        vertical-align: top;\n",
       "    }\n",
       "\n",
       "    .dataframe thead th {\n",
       "        text-align: right;\n",
       "    }\n",
       "</style>\n",
       "<table border=\"1\" class=\"dataframe\">\n",
       "  <thead>\n",
       "    <tr style=\"text-align: right;\">\n",
       "      <th></th>\n",
       "      <th>Loan Date End</th>\n",
       "      <th>Hits</th>\n",
       "    </tr>\n",
       "  </thead>\n",
       "  <tbody>\n",
       "    <tr>\n",
       "      <th>18974</th>\n",
       "      <td>Not on Loan</td>\n",
       "      <td>Unknown</td>\n",
       "    </tr>\n",
       "    <tr>\n",
       "      <th>18975</th>\n",
       "      <td>Not on Loan</td>\n",
       "      <td>Unknown</td>\n",
       "    </tr>\n",
       "    <tr>\n",
       "      <th>18976</th>\n",
       "      <td>Not on Loan</td>\n",
       "      <td>Unknown</td>\n",
       "    </tr>\n",
       "    <tr>\n",
       "      <th>18977</th>\n",
       "      <td>Not on Loan</td>\n",
       "      <td>Unknown</td>\n",
       "    </tr>\n",
       "    <tr>\n",
       "      <th>18978</th>\n",
       "      <td>Not on Loan</td>\n",
       "      <td>Unknown</td>\n",
       "    </tr>\n",
       "  </tbody>\n",
       "</table>\n",
       "</div>"
      ],
      "text/plain": [
       "      Loan Date End     Hits\n",
       "18974   Not on Loan  Unknown\n",
       "18975   Not on Loan  Unknown\n",
       "18976   Not on Loan  Unknown\n",
       "18977   Not on Loan  Unknown\n",
       "18978   Not on Loan  Unknown"
      ]
     },
     "execution_count": 14,
     "metadata": {},
     "output_type": "execute_result"
    }
   ],
   "source": [
    "# checking\n",
    "fifa_df[['Loan Date End','Hits']].tail()"
   ]
  },
  {
   "cell_type": "markdown",
   "id": "f3b713ea-a49f-4ec1-a294-2740b7b4f23b",
   "metadata": {},
   "source": [
    "### Cleaning and Converting Financial Data"
   ]
  },
  {
   "cell_type": "markdown",
   "id": "42e8a9c7-ff4c-4577-a4a5-6b4ea0dc4bc5",
   "metadata": {},
   "source": [
    "we'll focus on improving the readability and workability of the financial data within our dataset. We need identify the 'Value', 'Wage', and 'Release Clause' columns in the Fifa 21 Players dataset, which contain '€', 'K', and 'M' characters. "
   ]
  },
  {
   "cell_type": "code",
   "execution_count": 15,
   "id": "53040f8d-c324-4350-8db2-e7156307ff51",
   "metadata": {},
   "outputs": [
    {
     "data": {
      "text/html": [
       "<div>\n",
       "<style scoped>\n",
       "    .dataframe tbody tr th:only-of-type {\n",
       "        vertical-align: middle;\n",
       "    }\n",
       "\n",
       "    .dataframe tbody tr th {\n",
       "        vertical-align: top;\n",
       "    }\n",
       "\n",
       "    .dataframe thead th {\n",
       "        text-align: right;\n",
       "    }\n",
       "</style>\n",
       "<table border=\"1\" class=\"dataframe\">\n",
       "  <thead>\n",
       "    <tr style=\"text-align: right;\">\n",
       "      <th></th>\n",
       "      <th>Value</th>\n",
       "      <th>Wage</th>\n",
       "      <th>Release Clause</th>\n",
       "    </tr>\n",
       "  </thead>\n",
       "  <tbody>\n",
       "    <tr>\n",
       "      <th>0</th>\n",
       "      <td>€103.5M</td>\n",
       "      <td>€560K</td>\n",
       "      <td>€138.4M</td>\n",
       "    </tr>\n",
       "    <tr>\n",
       "      <th>1</th>\n",
       "      <td>€63M</td>\n",
       "      <td>€220K</td>\n",
       "      <td>€75.9M</td>\n",
       "    </tr>\n",
       "    <tr>\n",
       "      <th>2</th>\n",
       "      <td>€120M</td>\n",
       "      <td>€125K</td>\n",
       "      <td>€159.4M</td>\n",
       "    </tr>\n",
       "    <tr>\n",
       "      <th>3</th>\n",
       "      <td>€129M</td>\n",
       "      <td>€370K</td>\n",
       "      <td>€161M</td>\n",
       "    </tr>\n",
       "    <tr>\n",
       "      <th>4</th>\n",
       "      <td>€132M</td>\n",
       "      <td>€270K</td>\n",
       "      <td>€166.5M</td>\n",
       "    </tr>\n",
       "  </tbody>\n",
       "</table>\n",
       "</div>"
      ],
      "text/plain": [
       "     Value   Wage Release Clause\n",
       "0  €103.5M  €560K        €138.4M\n",
       "1     €63M  €220K         €75.9M\n",
       "2    €120M  €125K        €159.4M\n",
       "3    €129M  €370K          €161M\n",
       "4    €132M  €270K        €166.5M"
      ]
     },
     "execution_count": 15,
     "metadata": {},
     "output_type": "execute_result"
    }
   ],
   "source": [
    "# identify dataset that contain characters euro, K, M\n",
    "fifa_df[['Value','Wage','Release Clause']].head()"
   ]
  },
  {
   "cell_type": "code",
   "execution_count": 16,
   "id": "31b990c5-709d-4a87-a124-daa7ff529887",
   "metadata": {},
   "outputs": [],
   "source": [
    "# make function to convert data to numerik\n",
    "def convert_to_numeric(value):\n",
    "    value = value.replace('€','').strip()\n",
    "    if 'K' in value:\n",
    "        return int(float(value.replace('K','').replace(',',''))* 1_000)\n",
    "    elif 'M' in value:\n",
    "        return int(float(value.replace('M','').replace(',',''))* 1_000_000)\n",
    "    else:\n",
    "        return int(float(value.replace(',','')))\n",
    "\n",
    "# implementing function to convert data to numeric \n",
    "fifa_df[['Value','Wage','Release Clause']] = fifa_df[['Value','Wage','Release Clause']].apply(lambda col: col.map(convert_to_numeric))"
   ]
  },
  {
   "cell_type": "code",
   "execution_count": 17,
   "id": "25a90738-a6cc-4adb-ab36-d8c5133c9bcd",
   "metadata": {},
   "outputs": [
    {
     "data": {
      "text/html": [
       "<div>\n",
       "<style scoped>\n",
       "    .dataframe tbody tr th:only-of-type {\n",
       "        vertical-align: middle;\n",
       "    }\n",
       "\n",
       "    .dataframe tbody tr th {\n",
       "        vertical-align: top;\n",
       "    }\n",
       "\n",
       "    .dataframe thead th {\n",
       "        text-align: right;\n",
       "    }\n",
       "</style>\n",
       "<table border=\"1\" class=\"dataframe\">\n",
       "  <thead>\n",
       "    <tr style=\"text-align: right;\">\n",
       "      <th></th>\n",
       "      <th>Value</th>\n",
       "      <th>Wage</th>\n",
       "      <th>Release Clause</th>\n",
       "    </tr>\n",
       "  </thead>\n",
       "  <tbody>\n",
       "    <tr>\n",
       "      <th>0</th>\n",
       "      <td>103500000</td>\n",
       "      <td>560000</td>\n",
       "      <td>138400000</td>\n",
       "    </tr>\n",
       "    <tr>\n",
       "      <th>1</th>\n",
       "      <td>63000000</td>\n",
       "      <td>220000</td>\n",
       "      <td>75900000</td>\n",
       "    </tr>\n",
       "    <tr>\n",
       "      <th>2</th>\n",
       "      <td>120000000</td>\n",
       "      <td>125000</td>\n",
       "      <td>159400000</td>\n",
       "    </tr>\n",
       "    <tr>\n",
       "      <th>3</th>\n",
       "      <td>129000000</td>\n",
       "      <td>370000</td>\n",
       "      <td>161000000</td>\n",
       "    </tr>\n",
       "    <tr>\n",
       "      <th>4</th>\n",
       "      <td>132000000</td>\n",
       "      <td>270000</td>\n",
       "      <td>166500000</td>\n",
       "    </tr>\n",
       "  </tbody>\n",
       "</table>\n",
       "</div>"
      ],
      "text/plain": [
       "       Value    Wage  Release Clause\n",
       "0  103500000  560000       138400000\n",
       "1   63000000  220000        75900000\n",
       "2  120000000  125000       159400000\n",
       "3  129000000  370000       161000000\n",
       "4  132000000  270000       166500000"
      ]
     },
     "execution_count": 17,
     "metadata": {},
     "output_type": "execute_result"
    }
   ],
   "source": [
    "fifa_df[['Value','Wage','Release Clause']].head()"
   ]
  },
  {
   "cell_type": "code",
   "execution_count": 18,
   "id": "9de1fb8c-f7e7-4b9f-a3a3-489fa651f39a",
   "metadata": {},
   "outputs": [
    {
     "name": "stdout",
     "output_type": "stream",
     "text": [
      "<class 'pandas.core.frame.DataFrame'>\n",
      "RangeIndex: 18979 entries, 0 to 18978\n",
      "Data columns (total 34 columns):\n",
      " #   Column          Non-Null Count  Dtype \n",
      "---  ------          --------------  ----- \n",
      " 0   ID              18979 non-null  int64 \n",
      " 1   Name            18979 non-null  object\n",
      " 2   LongName        18979 non-null  object\n",
      " 3   Nationality     18979 non-null  object\n",
      " 4   Age             18979 non-null  int64 \n",
      " 5   ↓OVA            18979 non-null  int64 \n",
      " 6   POT             18979 non-null  int64 \n",
      " 7   Club            18979 non-null  object\n",
      " 8   Contract        18979 non-null  object\n",
      " 9   Positions       18979 non-null  object\n",
      " 10  Height          18979 non-null  object\n",
      " 11  Weight          18979 non-null  object\n",
      " 12  Preferred Foot  18979 non-null  object\n",
      " 13  BOV             18979 non-null  int64 \n",
      " 14  Best Position   18979 non-null  object\n",
      " 15  Joined          18979 non-null  object\n",
      " 16  Loan Date End   18979 non-null  object\n",
      " 17  Value           18979 non-null  int64 \n",
      " 18  Wage            18979 non-null  int64 \n",
      " 19  Release Clause  18979 non-null  int64 \n",
      " 20  Total Stats     18979 non-null  int64 \n",
      " 21  Base Stats      18979 non-null  int64 \n",
      " 22  W/F             18979 non-null  object\n",
      " 23  SM              18979 non-null  object\n",
      " 24  A/W             18979 non-null  object\n",
      " 25  D/W             18979 non-null  object\n",
      " 26  IR              18979 non-null  object\n",
      " 27  PAC             18979 non-null  int64 \n",
      " 28  SHO             18979 non-null  int64 \n",
      " 29  PAS             18979 non-null  int64 \n",
      " 30  DRI             18979 non-null  int64 \n",
      " 31  DEF             18979 non-null  int64 \n",
      " 32  PHY             18979 non-null  int64 \n",
      " 33  Hits            18979 non-null  object\n",
      "dtypes: int64(16), object(18)\n",
      "memory usage: 4.9+ MB\n"
     ]
    }
   ],
   "source": [
    "fifa_df.info()"
   ]
  },
  {
   "cell_type": "markdown",
   "id": "b7469167-c993-4190-a554-651d45fd9347",
   "metadata": {},
   "source": [
    "### Data Visualization"
   ]
  },
  {
   "cell_type": "markdown",
   "id": "d42ad694-ee35-45cd-9fa4-f185ba83c4d1",
   "metadata": {},
   "source": [
    "**Pie Chart Visualization of FIFA 21 Players Preferred Foot**"
   ]
  },
  {
   "cell_type": "raw",
   "id": "8679f130-15bc-449f-8ddd-c3be2f806fd3",
   "metadata": {},
   "source": [
    "Next step, we'll create a pie chart that illustrates the distribution of the preferred foot (either Left or Right) among the FIFA 21 players from the dataset"
   ]
  },
  {
   "cell_type": "code",
   "execution_count": 19,
   "id": "27cfd560-0923-4fab-b749-84490a675e25",
   "metadata": {},
   "outputs": [
    {
     "data": {
      "text/plain": [
       "Preferred Foot\n",
       "Right    14445\n",
       "Left      4534\n",
       "Name: count, dtype: int64"
      ]
     },
     "execution_count": 19,
     "metadata": {},
     "output_type": "execute_result"
    }
   ],
   "source": [
    "# checking preferred foot \n",
    "fifa_df['Preferred Foot'].value_counts()"
   ]
  },
  {
   "cell_type": "code",
   "execution_count": 20,
   "id": "2e2efb70-df89-4d6f-a1bc-9ea996dc2275",
   "metadata": {},
   "outputs": [
    {
     "data": {
      "image/png": "[encoded data removed]",
      "text/plain": [
       "<Figure size 640x480 with 1 Axes>"
      ]
     },
     "metadata": {},
     "output_type": "display_data"
    }
   ],
   "source": [
    "# make pie chart to show information about preferred foot \n",
    "preferred_foot_counts = fifa_df['Preferred Foot'].value_counts()\n",
    "preferred_foot = preferred_foot_counts.index\n",
    "counts = preferred_foot_counts.values \n",
    "\n",
    "plt.pie(counts, labels=preferred_foot, autopct='%1.1f%%', textprops={'color':'black'})\n",
    "plt.title('Preferred Foot')\n",
    "plt.savefig('preferred-foot.jpg',format='jpeg')  # save image\n",
    "plt.show()"
   ]
  },
  {
   "cell_type": "markdown",
   "id": "d87d1d9e-2444-4ba1-853f-769cc9d7835c",
   "metadata": {},
   "source": [
    "**Bar Plot Visualization of Top 6 FIFA 21 Players**"
   ]
  },
  {
   "cell_type": "raw",
   "id": "227a754b-c32c-462a-8786-0d3f07e0081d",
   "metadata": {},
   "source": [
    "creating a bar plot to represent the top 6 FIFA 21 players based on their 'OVA' values from the dataset The OVA column is a vital piece of information that represents the overall rating of a player"
   ]
  },
  {
   "cell_type": "code",
   "execution_count": 21,
   "id": "869b0a96-8f22-44bf-a1b8-0d6ec8d31fdd",
   "metadata": {},
   "outputs": [],
   "source": [
    "# rename column \n",
    "fifa_df.rename(columns={\n",
    "    '↓OVA' : 'OVA'\n",
    "}, inplace=True)"
   ]
  },
  {
   "cell_type": "code",
   "execution_count": 22,
   "id": "d1131f48-f20b-414c-b65c-f60fcb0b68a3",
   "metadata": {},
   "outputs": [
    {
     "data": {
      "image/png": "[encoded data removed]",
      "text/plain": [
       "<Figure size 1000x600 with 1 Axes>"
      ]
     },
     "metadata": {},
     "output_type": "display_data"
    }
   ],
   "source": [
    "# sort by OVA score in descending order and take 6 top players\n",
    "top_players = fifa_df[['Name','OVA']].sort_values(by='OVA', ascending=False).head(6)\n",
    "\n",
    "name_players = top_players['Name'].tolist()\n",
    "score_players = top_players['OVA'].tolist()\n",
    "\n",
    "# make a bar chart\n",
    "plt.figure(figsize=(10,6))\n",
    "plt.bar(name_players, score_players, color='skyblue')\n",
    "plt.xlabel('Name')\n",
    "plt.ylabel('OVA')\n",
    "plt.title('Top 6 FIFA 21 Players')\n",
    "plt.tight_layout() # mengatur tata letak agar tidak terpotong\n",
    "plt.savefig('top-6-players.jpg', format='jpeg')\n",
    "plt.show()\n"
   ]
  },
  {
   "cell_type": "markdown",
   "id": "9878b6fb-2340-4450-b868-31d00bdfb01a",
   "metadata": {},
   "source": [
    "**Bar Plot Visualization of Top 8 FIFA Teams with most numbers of Best Players**"
   ]
  },
  {
   "cell_type": "raw",
   "id": "709cd82d-8b63-45f3-9887-689714274a42",
   "metadata": {},
   "source": [
    "we'll create a bar plot that visualizes the top 8 Fifa teams with the most players in the top 100 list, based on the 'OVA' score"
   ]
  },
  {
   "cell_type": "code",
   "execution_count": 23,
   "id": "c459a045-169c-4161-8f9f-add3691238b1",
   "metadata": {},
   "outputs": [
    {
     "data": {
      "image/png": "[encoded data removed]",
      "text/plain": [
       "<Figure size 1000x600 with 1 Axes>"
      ]
     },
     "metadata": {},
     "output_type": "display_data"
    }
   ],
   "source": [
    "# sort players data based on OVA and take first 100 record \n",
    "top_100_players = fifa_df[['Name','OVA','Club']].sort_values(by='OVA', ascending=False).head(100)\n",
    "\n",
    "# count frequency for each club based on top 100 players and take 8 top clubs\n",
    "top_8_clubs = top_100_players['Club'].value_counts().head(8)\n",
    "\n",
    "# make a bar plot for top 8 clubs\n",
    "plt.figure(figsize=(10,6))\n",
    "top_8_clubs.plot(kind='bar', color='darkblue')\n",
    "plt.xlabel('Clubs')\n",
    "plt.ylabel('Number of Top Players')\n",
    "plt.title('Best FIFA 21 Teams')\n",
    "plt.xticks(rotation=30)\n",
    "plt.tight_layout()\n",
    "\n",
    "plt.savefig('best-fifa-teams.jpg', format='jpeg')\n",
    "plt.show()"
   ]
  },
  {
   "cell_type": "markdown",
   "id": "6083b9e7-024a-4652-8258-b40ef6adf644",
   "metadata": {},
   "source": [
    "**Bar Plot Visualization of Top 10 FIFA Teams with the most player in top 100 valuable**"
   ]
  },
  {
   "cell_type": "raw",
   "id": "72da13d2-87d3-4051-956d-ef23a403ba7e",
   "metadata": {},
   "source": [
    "We'll generate a bar plot that showcases the top 10 FIFA teams with the most number of valuale palyers. this value pertains t the top 100 players based on their value attribute in the dataset."
   ]
  },
  {
   "cell_type": "code",
   "execution_count": 25,
   "id": "b331ade3-17e0-44f9-b898-0288dc83aa68",
   "metadata": {},
   "outputs": [
    {
     "data": {
      "image/png": "[encoded data removed]",
      "text/plain": [
       "<Figure size 1000x600 with 1 Axes>"
      ]
     },
     "metadata": {},
     "output_type": "display_data"
    }
   ],
   "source": [
    "# sort players based on 'Value' column in descending order and take top 100 players with highest valuable \n",
    "valuable_players = fifa_df[['Name','Value','Club']].sort_values(by='Value', ascending=False).head(100)\n",
    "\n",
    "# count frequency for each club based on top 100 players with highest value and take top 10 clubs \n",
    "top_10_clubs = valuable_players['Club'].value_counts().head(10)\n",
    "\n",
    "# make bar plot for top 10 clubs \n",
    "plt.figure(figsize=(10,6))\n",
    "top_10_clubs.plot(kind='bar', color='cornflowerblue')\n",
    "plt.xlabel('Clubs Name')\n",
    "plt.ylabel('Frequency of Top Players')\n",
    "plt.title('Top 10 Most Valuable FIFA 21 Teams')\n",
    "plt.xticks(rotation=30)\n",
    "plt.tight_layout()\n",
    "plt.savefig('most-valuable-teams.jpg', format='jpeg')\n",
    "plt.show()"
   ]
  },
  {
   "cell_type": "markdown",
   "id": "e1c89d8c-dd03-484f-850a-6b0d32f56301",
   "metadata": {},
   "source": [
    "**Scatter Plot for Underpaid but Valuable Players**"
   ]
  },
  {
   "cell_type": "raw",
   "id": "97154846-56af-41c1-9905-3f431b5dbc41",
   "metadata": {},
   "source": [
    "create a scatter plot to analyze and visualize FIFA 21 players who, despite their high value, are underpaid."
   ]
  },
  {
   "cell_type": "code",
   "execution_count": 29,
   "id": "4c078371-93ae-4e9c-83af-19067834bee2",
   "metadata": {},
   "outputs": [
    {
     "data": {
      "image/png": "[encoded data removed]",
      "text/plain": [
       "<Figure size 1000x600 with 1 Axes>"
      ]
     },
     "metadata": {},
     "output_type": "display_data"
    }
   ],
   "source": [
    "# add threshold for value and wage\n",
    "value_threshold = fifa_df['Value'].quantile(0.75) # high value\n",
    "wage_threshold = fifa_df['Wage'].quantile(0.25) # low wage\n",
    "\n",
    "# identify the subset of players whi are considered high value but underpaid\n",
    "high_value_underpaid = fifa_df[(fifa_df['Value'] >= value_threshold) &\n",
    "                               (fifa_df['Wage'] <= wage_threshold)]\n",
    "\n",
    "# make scatter plot\n",
    "plt.figure(figsize=(10,6))\n",
    "\n",
    "# plot all players\n",
    "plt.scatter(fifa_df['Value'], fifa_df['Wage'], color='skyblue', label='All player')\n",
    "\n",
    "# plot players with high value but underpaid\n",
    "plt.scatter(high_value_underpaid['Value'], high_value_underpaid['Wage'], color='tomato', label='High Value but Underpaid', edgecolor='black')\n",
    "\n",
    "# add label and title\n",
    "plt.xlabel('Value (€)')\n",
    "plt.ylabel('Wage (€)')\n",
    "plt.title('High Value, Underpaid Players')\n",
    "plt.legend()\n",
    "plt.grid(True)\n",
    "\n",
    "plt.savefig('high-value-underpaid-players.jpg', format='jpeg') # save image\n",
    "plt.show()"
   ]
  },
  {
   "cell_type": "code",
   "execution_count": null,
   "id": "3984dcbe-5433-4364-af78-b24d93c7d014",
   "metadata": {},
   "outputs": [],
   "source": []
  }
 ],
 "metadata": {
  "kernelspec": {
   "display_name": "Python 3 (ipykernel)",
   "language": "python",
   "name": "python3"
  },
  "language_info": {
   "codemirror_mode": {
    "name": "ipython",
    "version": 3
   },
   "file_extension": ".py",
   "mimetype": "text/x-python",
   "name": "python",
   "nbconvert_exporter": "python",
   "pygments_lexer": "ipython3",
   "version": "3.11.7"
  }
 },
 "nbformat": 4,
 "nbformat_minor": 5
}
